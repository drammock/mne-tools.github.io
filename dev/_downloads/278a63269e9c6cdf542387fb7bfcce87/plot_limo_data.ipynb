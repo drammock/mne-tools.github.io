{
  "cells": [
    {
      "cell_type": "code",
      "execution_count": null,
      "metadata": {
        "collapsed": false
      },
      "outputs": [],
      "source": [
        "%matplotlib inline"
      ]
    },
    {
      "cell_type": "markdown",
      "metadata": {},
      "source": [
        "\n# Import single subject from LIMO data set into MNE-Python\n\n\nHere we a define function to extract the eeg signal data\nfrom the LIMO structures in the LIMO dataset, see [1]_, [2]_, and:\n\n    https://datashare.is.ed.ac.uk/handle/10283/2189?show=full\n\n    https://github.com/LIMO-EEG-Toolbox\n\nThe code allows to:\n\nFetch single subjects epochs data for the LIMO data set.\nEpochs information (i.e., sampling rate, number of epochs per condition,\nnumber and name of EEG channels per subject, etc.) is extracted from\nthe LIMO .mat files stored on disk.\nIf files are not found, the function mne.datasets.limo.load_data() will\nautomatically download the data from a remote repository.\n\nmne.datasets.limo.load_data() creates a custom info and\nepochs structure in MNE-Python.\nMissing channels can be interpolated if desired.\n\n\nReferences\n----------\n.. [1] Guillaume, Rousselet. (2016). LIMO EEG Dataset, [dataset].\n       University of Edinburgh, Centre for Clinical Brain Sciences.\n       https://doi.org/10.7488/ds/1556.\n.. [2] Rousselet, G. A., Gaspar, C. M., Pernet, C. R., Husk, J. S.,\n       Bennett, P. J., & Sekuler, A. B. (2010). Healthy aging delays scalp EEG\n       sensitivity to noise in a face discrimination task.\n       Frontiers in psychology, 1, 19. https://doi.org/10.3389/fpsyg.2010.00019\n"
      ]
    },
    {
      "cell_type": "code",
      "execution_count": null,
      "metadata": {
        "collapsed": false
      },
      "outputs": [],
      "source": [
        "# Authors: Jose C. Garcia Alanis <alanis.jcg@gmail.com>\n#\n# License: BSD (3-clause)\n\nimport numpy as np\nimport matplotlib.pyplot as plt\n\nimport mne\nfrom mne.datasets import limo\nfrom mne.stats import linear_regression\n\nprint(__doc__)\n\n# fetch data from subject 2 and interpolate missing channels\nlimo_epochs = limo.load_data(subject=2)"
      ]
    },
    {
      "cell_type": "markdown",
      "metadata": {},
      "source": [
        "In the original LIMO experiment, participants performed a two-alternative\nforced choice task discriminating between the same two faces.\nThe critical manipulation in the experiment was that the phase-coherence of\nthe presented face-stimuli was varied across a noise-signal continuum\nspanning from 0 to 100 %. In other words, faces with high phase coherence\nwere easily discernible, while faces with low phase-coherence were hard to\nidentify as such).\nThe events coding the presentation of each of these two faces are stored in\n``limo_epochs.events``.\n\nWe can visualise the distribution of the face events contained in the\nepochs structure. Events should appear clearly grouped, as they are ordered\nduring the import process.\n\n"
      ]
    },
    {
      "cell_type": "code",
      "execution_count": null,
      "metadata": {
        "collapsed": false
      },
      "outputs": [],
      "source": [
        "fig, ax = plt.subplots(figsize=(7, 5))\nmne.viz.plot_events(limo_epochs.events, event_id=limo_epochs.event_id, axes=ax)\nax.set(title=\"Distribution of events\")\nplt.legend(loc='lower left', borderaxespad=1.)\nplt.tight_layout()\nplt.show()"
      ]
    },
    {
      "cell_type": "markdown",
      "metadata": {},
      "source": [
        "As it can be seen above, events are coded as ``Face/A`` and ``Face/B``.\nInformation about the phase-coherence of the presented faces is stored in\n``limo_epochs.metadata``, which also contains information about the presented\nfaces for convenience.\n\nCheck epochs metadata\n\n"
      ]
    },
    {
      "cell_type": "code",
      "execution_count": null,
      "metadata": {
        "collapsed": false
      },
      "outputs": [],
      "source": [
        "print(limo_epochs.metadata.head())"
      ]
    },
    {
      "cell_type": "markdown",
      "metadata": {},
      "source": [
        "Before going on, we'll drop the EOG channels present in the LIMO epochs\n(coded with EXG-prefix in ``limo_epochs.info['ch_names']``, as data has\nalready been cleaned.\n\n"
      ]
    },
    {
      "cell_type": "code",
      "execution_count": null,
      "metadata": {
        "collapsed": false
      },
      "outputs": [],
      "source": [
        "limo_epochs.drop_channels(['EXG1', 'EXG2', 'EXG3', 'EXG4'])\n\n# Furthermore, some datasets contain missing channels (stored in\n# ``limo_epochs.info[\u2018bads\u2019]``), which were dropped during preprocessing of the\n# data. We\u2019ll interpolate this channels for convenience.\nlimo_epochs.interpolate_bads(reset_bads=True)"
      ]
    },
    {
      "cell_type": "markdown",
      "metadata": {},
      "source": [
        "Now we can go ahead and plot the ERPs evoked by Face A and Face B\n\n"
      ]
    },
    {
      "cell_type": "code",
      "execution_count": null,
      "metadata": {
        "collapsed": false
      },
      "outputs": [],
      "source": [
        "# only show -250 to 500 ms\nts_args = dict(xlim=(-.25, 0.5))\n\n# plot evoked response for faces A & B\nlimo_epochs['Face/A'].average().plot_joint(times=[.15],\n                                           title='Evoked response: Face A',\n                                           ts_args=ts_args)\n\nlimo_epochs['Face/B'].average().plot_joint(times=[.15],\n                                           title='Evoked response: Face B',\n                                           ts_args=ts_args)"
      ]
    },
    {
      "cell_type": "markdown",
      "metadata": {},
      "source": [
        "We can also compute the difference wave contrasting Face A and Face B.\nAlthough, looking at the evoked responses above, we shouldn't expect great\ndifferences among these face-stimuli.\n\nCompute difference wave (Face A minus Face B)\n\n"
      ]
    },
    {
      "cell_type": "code",
      "execution_count": null,
      "metadata": {
        "collapsed": false
      },
      "outputs": [],
      "source": [
        "difference_wave = mne.combine_evoked([limo_epochs['Face/A'].average(),\n                                     -limo_epochs['Face/B'].average()],\n                                     weights='equal')\n\n# Plot difference between Face A and Face B\ndifference_wave.plot_joint(times=[.15], title='Difference Face A - Face B')"
      ]
    },
    {
      "cell_type": "markdown",
      "metadata": {},
      "source": [
        "As expected, no see clear differential patterns appears when contrasting\nFace A and Face B. However, we could narrow our search to\nsince this is a \"visual paradigm\" it might be best to electrodes located over\nthe occipital lobe. After all this is \"visual paradigm\". Thus, differences\nbetween stimuli (if any) might easier to spot over \"more visual areas\".\n\nCreate a dictionary containing the evoked responses\n\n"
      ]
    },
    {
      "cell_type": "code",
      "execution_count": null,
      "metadata": {
        "collapsed": false
      },
      "outputs": [],
      "source": [
        "conditions = [\"Face/A\", \"Face/B\"]\nevoked_dict = dict()\nfor condition in conditions:\n    evoked_dict[condition] = limo_epochs[condition].average()\nprint(evoked_dict)\n\n# concentrate on an occipital electrode\npick = evoked_dict[\"Face/A\"].ch_names.index('B11')\n\n# compare evoked responses\nmne.viz.plot_compare_evokeds(evoked_dict, picks=pick)"
      ]
    },
    {
      "cell_type": "markdown",
      "metadata": {},
      "source": [
        "Next, we can inspect the effect of phase-coherence on the activation\npatterns evoked by the presented face-stimuli.\nHere, one would expect that faces with high phase-coherence evoke a stronger\nresponse, as participants should be better at identifying these faces.\n\nCreate design matrix for linear regression. We'll use the information\ncontained in the ``limo_epochs.metadata``.\n\n"
      ]
    },
    {
      "cell_type": "code",
      "execution_count": null,
      "metadata": {
        "collapsed": false
      },
      "outputs": [],
      "source": [
        "design = limo_epochs.metadata.copy()\ndesign = design.assign(intercept=1)  # add intercept\ndesign['face a - face b'] = np.where(design['face'] == 'A', 1, -1)\nnames = ['intercept', 'face a - face b', 'phase-coherence']\n\n# fit linear model\nreg = linear_regression(limo_epochs, design[names], names=names)"
      ]
    },
    {
      "cell_type": "markdown",
      "metadata": {},
      "source": [
        "Visualise effect of phase-coherence.\n\n"
      ]
    },
    {
      "cell_type": "code",
      "execution_count": null,
      "metadata": {
        "collapsed": false
      },
      "outputs": [],
      "source": [
        "reg['phase-coherence'].beta.plot_joint(ts_args=ts_args,\n                                       title='Effect of phase-coherence',\n                                       times=[.23])"
      ]
    },
    {
      "cell_type": "markdown",
      "metadata": {},
      "source": [
        "Here we can see a clear effect of phase-coherence, with higher\nphase-coherence (i.e., better \"face visibility\") being associated with\nstronger activity patterns.\n\n"
      ]
    },
    {
      "cell_type": "markdown",
      "metadata": {},
      "source": [
        "Conversely, there appears to be no (or very small) systematic effects when\nconstraining Face A and Face B. This is largely consistent with the\ndifference wave approach presented above.\n\nVisualise effect of face condition (Face A vs. Face B).\n\n"
      ]
    },
    {
      "cell_type": "code",
      "execution_count": null,
      "metadata": {
        "collapsed": false
      },
      "outputs": [],
      "source": [
        "reg['face a - face b'].beta.plot_joint(title='Contrast: Face A - Face B',\n                                       ts_args=ts_args,\n                                       times=[.15])"
      ]
    }
  ],
  "metadata": {
    "kernelspec": {
      "display_name": "Python 3",
      "language": "python",
      "name": "python3"
    },
    "language_info": {
      "codemirror_mode": {
        "name": "ipython",
        "version": 3
      },
      "file_extension": ".py",
      "mimetype": "text/x-python",
      "name": "python",
      "nbconvert_exporter": "python",
      "pygments_lexer": "ipython3",
      "version": "3.7.4"
    }
  },
  "nbformat": 4,
  "nbformat_minor": 0
}