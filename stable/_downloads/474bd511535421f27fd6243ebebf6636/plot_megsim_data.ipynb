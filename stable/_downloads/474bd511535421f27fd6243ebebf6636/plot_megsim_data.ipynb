{
  "cells": [
    {
      "cell_type": "code",
      "execution_count": null,
      "metadata": {
        "collapsed": false
      },
      "outputs": [],
      "source": [
        "%matplotlib inline"
      ]
    },
    {
      "cell_type": "markdown",
      "metadata": {},
      "source": [
        "\n\n# MEGSIM experimental and simulation datasets\n\n\nThe MEGSIM consists of experimental and simulated MEG data\nwhich can be useful for reproducing research results.\n\nThe MEGSIM files will be dowloaded automatically.\n\nThe datasets are documented in:\nAine CJ, Sanfratello L, Ranken D, Best E, MacArthur JA, Wallace T,\nGilliam K, Donahue CH, Montano R, Bryant JE, Scott A, Stephen JM\n(2012) MEG-SIM: A Web Portal for Testing MEG Analysis Methods using\nRealistic Simulated and Empirical Data. Neuroinformatics 10:141-158\n"
      ]
    },
    {
      "cell_type": "code",
      "execution_count": null,
      "metadata": {
        "collapsed": false
      },
      "outputs": [],
      "source": [
        "import mne\nfrom mne import find_events, Epochs, pick_types, read_evokeds\nfrom mne.datasets.megsim import load_data\n\nprint(__doc__)\n\ncondition = 'visual'  # or 'auditory' or 'somatosensory'\n\n# Load experimental RAW files for the visual condition\nraw_fnames = load_data(condition=condition, data_format='raw',\n                       data_type='experimental', verbose=True)\n\n# Load simulation evoked files for the visual condition\nevoked_fnames = load_data(condition=condition, data_format='evoked',\n                          data_type='simulation', verbose=True)\n\nraw = mne.io.read_raw_fif(raw_fnames[0], verbose='error')  # Bad naming\nevents = find_events(raw, stim_channel=\"STI 014\", shortest_event=1)\n\n# Visualize raw file\nraw.plot()\n\n# Make an evoked file from the experimental data\npicks = pick_types(raw.info, meg=True, eog=True, exclude='bads')\n\n# Read epochs\nevent_id, tmin, tmax = 9, -0.2, 0.5\nepochs = Epochs(raw, events, event_id, tmin, tmax, baseline=(None, 0),\n                picks=picks, reject=dict(grad=4000e-13, mag=4e-12, eog=150e-6))\nevoked = epochs.average()  # average epochs and get an Evoked dataset.\nevoked.plot(time_unit='s')\n\n# Compare to the simulated data (use verbose='error' b/c of naming)\nevoked_sim = read_evokeds(evoked_fnames[0], condition=0, verbose='error',\n                          baseline=(None, 0))\nevoked_sim.plot(time_unit='s')"
      ]
    }
  ],
  "metadata": {
    "kernelspec": {
      "display_name": "Python 3",
      "language": "python",
      "name": "python3"
    },
    "language_info": {
      "codemirror_mode": {
        "name": "ipython",
        "version": 3
      },
      "file_extension": ".py",
      "mimetype": "text/x-python",
      "name": "python",
      "nbconvert_exporter": "python",
      "pygments_lexer": "ipython3",
      "version": "3.7.3"
    }
  },
  "nbformat": 4,
  "nbformat_minor": 0
}